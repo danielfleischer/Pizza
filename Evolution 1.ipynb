{
 "cells": [
  {
   "cell_type": "code",
   "execution_count": 140,
   "metadata": {
    "collapsed": false,
    "deletable": true,
    "editable": true
   },
   "outputs": [],
   "source": [
    "import numpy as np\n",
    "from random import random as rd\n",
    "from random import randint as ri\n",
    "from random import shuffle"
   ]
  },
  {
   "cell_type": "code",
   "execution_count": 33,
   "metadata": {
    "collapsed": true,
    "deletable": true,
    "editable": true
   },
   "outputs": [],
   "source": [
    "fname = 'example.in'"
   ]
  },
  {
   "cell_type": "code",
   "execution_count": 40,
   "metadata": {
    "collapsed": true,
    "deletable": true,
    "editable": true
   },
   "outputs": [],
   "source": [
    "ans = list(open(fname).read().splitlines())"
   ]
  },
  {
   "cell_type": "code",
   "execution_count": 41,
   "metadata": {
    "collapsed": false,
    "deletable": true,
    "editable": true
   },
   "outputs": [],
   "source": [
    "R,C,L,H = map(int, ans[0].split())\n",
    "data = ans[1:]"
   ]
  },
  {
   "cell_type": "markdown",
   "metadata": {
    "deletable": true,
    "editable": true
   },
   "source": [
    "Initialize an ndarray reprresenting the pizza where each cell is going to be 0,1 representing the two topings. \n",
    "\n",
    "We set `tomato=0, mushroom=1`."
   ]
  },
  {
   "cell_type": "code",
   "execution_count": 42,
   "metadata": {
    "collapsed": false,
    "deletable": true,
    "editable": true
   },
   "outputs": [],
   "source": [
    "pizza = np.ones((R, C), dtype=int)\n",
    "\n",
    "for i in range(R):\n",
    "    for j in range(C):\n",
    "        if data[i][j] == 'M':\n",
    "            pizza[i,j] = -1"
   ]
  },
  {
   "cell_type": "code",
   "execution_count": 43,
   "metadata": {
    "collapsed": false,
    "deletable": true,
    "editable": true
   },
   "outputs": [
    {
     "name": "stdout",
     "output_type": "stream",
     "text": [
      "[[ 1  1  1  1  1]\n",
      " [ 1 -1 -1 -1  1]\n",
      " [ 1  1  1  1  1]]\n"
     ]
    }
   ],
   "source": [
    "print pizza"
   ]
  },
  {
   "cell_type": "markdown",
   "metadata": {
    "deletable": true,
    "editable": true
   },
   "source": [
    "----"
   ]
  },
  {
   "cell_type": "markdown",
   "metadata": {},
   "source": [
    "## Evolution"
   ]
  },
  {
   "cell_type": "markdown",
   "metadata": {},
   "source": [
    "There are 4 function:\n",
    "1. Fit - which calculated its area.\n",
    "2. Random_instance - creates a valid pizza slice list\n",
    "3. Mate - takes two slice list and create a hybrid slices\n",
    "4. Mutate - with random probability drops and creates new slices"
   ]
  },
  {
   "cell_type": "code",
   "execution_count": 153,
   "metadata": {
    "collapsed": true
   },
   "outputs": [],
   "source": [
    "N = 10\n",
    "population = N**2\n",
    "generation = 10\n",
    "num_mutate = 200\n",
    "p_kill = 0.0001"
   ]
  },
  {
   "cell_type": "code",
   "execution_count": 46,
   "metadata": {
    "collapsed": true
   },
   "outputs": [],
   "source": [
    "def get_size(arr):\n",
    "    return np.count_nonzero(arr[arr == 0])"
   ]
  },
  {
   "cell_type": "code",
   "execution_count": 76,
   "metadata": {
    "collapsed": true
   },
   "outputs": [],
   "source": [
    "def fit(slices):\n",
    "    return sum(map(lambda s: (abs(s[1][1] - s[0][1]) + 1) * (abs(s[1][0] - s[0][0]) + 1), slices))"
   ]
  },
  {
   "cell_type": "code",
   "execution_count": 157,
   "metadata": {
    "collapsed": true
   },
   "outputs": [],
   "source": [
    "def is_valid(matrix, slices, L, H):\n",
    "    dirty = np.ones(matrix.shape)\n",
    "    for s in slices:\n",
    "        r1, c1 = s[0]\n",
    "        r2, c2 = s[1]\n",
    "        if abs(r2 - r1) * abs(c2 - c1) > H:\n",
    "            return False\n",
    "        if np.sum(dirty[r1:(r2 + 1), c1:(c2 + 1)]) < L:\n",
    "            return False\n",
    "        if not np.any(dirty[r1:(r2 + 1), c1:(c2 + 1)]):\n",
    "            return False\n",
    "        dirty[r1:(r2 + 1), c1:(c2 + 1)] = 0\n",
    "    return True"
   ]
  },
  {
   "cell_type": "code",
   "execution_count": 158,
   "metadata": {
    "collapsed": true
   },
   "outputs": [],
   "source": [
    "def mutate(slices):\n",
    "    mutated = False\n",
    "    new_slices = slices\n",
    "    for a in range(num_mutate):\n",
    "        up_down = 1 if rd() > 0.5 else -1\n",
    "        r1 = ri(0, len(slices))\n",
    "        r2 = ri(0,1)\n",
    "        r3 = ri(0,1)\n",
    "        new_slices[r1,r2,r3] = new_slices[r1,r2,r3] + up_down\n",
    "        if is_valid(new_slices):\n",
    "            return new_slices"
   ]
  },
  {
   "cell_type": "code",
   "execution_count": 173,
   "metadata": {
    "collapsed": true
   },
   "outputs": [],
   "source": [
    "def mate(sol1, sol2):\n",
    "    all_sol = sol1 + sol2\n",
    "    shuffle(all_sol)\n",
    "    ans = []\n",
    "    for s in all_sol:\n",
    "        if is_valid(ans + [s]):\n",
    "            ans += [s]\n",
    "    return ans"
   ]
  },
  {
   "cell_type": "code",
   "execution_count": null,
   "metadata": {
    "collapsed": true
   },
   "outputs": [],
   "source": []
  }
 ],
 "metadata": {
  "kernelspec": {
   "display_name": "Python 2",
   "language": "python",
   "name": "python2"
  },
  "language_info": {
   "codemirror_mode": {
    "name": "ipython",
    "version": 2
   },
   "file_extension": ".py",
   "mimetype": "text/x-python",
   "name": "python",
   "nbconvert_exporter": "python",
   "pygments_lexer": "ipython2",
   "version": "2.7.13"
  }
 },
 "nbformat": 4,
 "nbformat_minor": 2
}

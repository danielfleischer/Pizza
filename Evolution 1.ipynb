{
 "cells": [
  {
   "cell_type": "code",
   "execution_count": 55,
   "metadata": {
    "collapsed": false,
    "deletable": true,
    "editable": true
   },
   "outputs": [],
   "source": [
    "import numpy as np\n",
    "from random import random as rd"
   ]
  },
  {
   "cell_type": "code",
   "execution_count": 33,
   "metadata": {
    "collapsed": true,
    "deletable": true,
    "editable": true
   },
   "outputs": [],
   "source": [
    "fname = 'example.in'"
   ]
  },
  {
   "cell_type": "code",
   "execution_count": 40,
   "metadata": {
    "collapsed": true,
    "deletable": true,
    "editable": true
   },
   "outputs": [],
   "source": [
    "ans = list(open(fname).read().splitlines())"
   ]
  },
  {
   "cell_type": "code",
   "execution_count": 41,
   "metadata": {
    "collapsed": false,
    "deletable": true,
    "editable": true
   },
   "outputs": [],
   "source": [
    "R,C,L,H = map(int, ans[0].split())\n",
    "data = ans[1:]"
   ]
  },
  {
   "cell_type": "markdown",
   "metadata": {
    "deletable": true,
    "editable": true
   },
   "source": [
    "Initialize an ndarray reprresenting the pizza where each cell is going to be 0,1 representing the two topings. \n",
    "\n",
    "We set `tomato=0, mushroom=1`."
   ]
  },
  {
   "cell_type": "code",
   "execution_count": 42,
   "metadata": {
    "collapsed": false,
    "deletable": true,
    "editable": true
   },
   "outputs": [],
   "source": [
    "pizza = np.ones((R, C), dtype=int)\n",
    "\n",
    "for i in range(R):\n",
    "    for j in range(C):\n",
    "        if data[i][j] == 'M':\n",
    "            pizza[i,j] = -1"
   ]
  },
  {
   "cell_type": "code",
   "execution_count": 43,
   "metadata": {
    "collapsed": false,
    "deletable": true,
    "editable": true
   },
   "outputs": [
    {
     "name": "stdout",
     "output_type": "stream",
     "text": [
      "[[ 1  1  1  1  1]\n",
      " [ 1 -1 -1 -1  1]\n",
      " [ 1  1  1  1  1]]\n"
     ]
    }
   ],
   "source": [
    "print pizza"
   ]
  },
  {
   "cell_type": "markdown",
   "metadata": {
    "deletable": true,
    "editable": true
   },
   "source": [
    "----"
   ]
  },
  {
   "cell_type": "markdown",
   "metadata": {},
   "source": [
    "## Evolution"
   ]
  },
  {
   "cell_type": "code",
   "execution_count": 74,
   "metadata": {
    "collapsed": true
   },
   "outputs": [],
   "source": [
    "N = 10\n",
    "population = N**2\n",
    "generation = 10\n",
    "p_kill = 0.0001"
   ]
  },
  {
   "cell_type": "code",
   "execution_count": 46,
   "metadata": {
    "collapsed": true
   },
   "outputs": [],
   "source": [
    "def get_size(arr):\n",
    "    return np.count_nonzero(arr[arr == 0])"
   ]
  },
  {
   "cell_type": "code",
   "execution_count": null,
   "metadata": {
    "collapsed": true
   },
   "outputs": [],
   "source": [
    "def fit(....):\n",
    "    \n",
    "    \n",
    "    \n",
    "    \n",
    "    return"
   ]
  },
  {
   "cell_type": "code",
   "execution_count": null,
   "metadata": {
    "collapsed": true
   },
   "outputs": [],
   "source": []
  },
  {
   "cell_type": "code",
   "execution_count": null,
   "metadata": {
    "collapsed": true
   },
   "outputs": [],
   "source": [
    "def random_instance():\n",
    "    slices = []\n",
    "    \n",
    "    \n",
    "    \n",
    "    return get_size(arr)"
   ]
  },
  {
   "cell_type": "code",
   "execution_count": null,
   "metadata": {
    "collapsed": true
   },
   "outputs": [],
   "source": []
  },
  {
   "cell_type": "code",
   "execution_count": 21,
   "metadata": {
    "collapsed": true,
    "deletable": true,
    "editable": true
   },
   "outputs": [],
   "source": [
    "def is_legal(arr, l, h):\n",
    "    \"\"\"\n",
    "    Given array and L,H determine if the slice is legal: if there are at least L tomatoes and L mushrooms\n",
    "    and if size of slice is less than H.\n",
    "    \"\"\"\n",
    "    size = arr.size\n",
    "    if size > h:     # optional, we may drop this\n",
    "        return False\n",
    "    total = arr.sum()\n",
    "    return ((size - 2*l) >= 0) and (size - 2*l) >= abs(total) "
   ]
  },
  {
   "cell_type": "code",
   "execution_count": 22,
   "metadata": {
    "collapsed": false,
    "deletable": true,
    "editable": true
   },
   "outputs": [],
   "source": [
    "def get_posibble_slices(R,C,x,y,H):\n",
    "    ans = []\n",
    "    for X in range(max(0,x-H),min(R,x+H)):\n",
    "        for Y in range(max(0,y-H),min(C,y+H)):\n",
    "            if abs((X-x+1)*(Y-y+1)) <= H:\n",
    "                ans.append([X,Y])\n",
    "    return np.array(ans, dtype=int)"
   ]
  },
  {
   "cell_type": "code",
   "execution_count": 222,
   "metadata": {
    "collapsed": true,
    "deletable": true,
    "editable": true
   },
   "outputs": [],
   "source": [
    "def get_4_coord(i1,i2):\n",
    "    i11,i12 = i1\n",
    "    i21,i22 = i2\n",
    "    return [i1,i2,[i21,i12],[i11,i22]]"
   ]
  },
  {
   "cell_type": "code",
   "execution_count": 29,
   "metadata": {
    "collapsed": true,
    "deletable": true,
    "editable": true
   },
   "outputs": [],
   "source": [
    "def get_2_coord(i1,i2):\n",
    "    \"\"\"Given 2 coordinates, return 2 coordinates such that the first it top left and second is bottom right\"\"\"\n",
    "    i11,i12 = i1\n",
    "    i21,i22 = i2\n",
    "    return [[min(i11,i21),min(i12,i22)],[max(i11,i21),max(i12,i22)]]"
   ]
  },
  {
   "cell_type": "code",
   "execution_count": 23,
   "metadata": {
    "collapsed": true,
    "deletable": true,
    "editable": true
   },
   "outputs": [],
   "source": [
    "def is_collision(i1,i2,j1,j2):\n",
    "    X = max(0, min(i1[0],i2[0])-max(j1[0],j2[0]))\n",
    "    Y = max(0, min(i1[1],i2[1])-max(j2[1],j2[1]))\n",
    "    print X,Y\n",
    "    return X*Y > 0"
   ]
  }
 ],
 "metadata": {
  "kernelspec": {
   "display_name": "Python 2",
   "language": "python",
   "name": "python2"
  },
  "language_info": {
   "codemirror_mode": {
    "name": "ipython",
    "version": 2
   },
   "file_extension": ".py",
   "mimetype": "text/x-python",
   "name": "python",
   "nbconvert_exporter": "python",
   "pygments_lexer": "ipython2",
   "version": "2.7.13"
  }
 },
 "nbformat": 4,
 "nbformat_minor": 2
}
